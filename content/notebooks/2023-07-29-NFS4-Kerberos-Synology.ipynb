{
 "cells": [
  {
   "cell_type": "markdown",
   "id": "9bc30d1d-8a81-458b-98fc-812be1d3e0f5",
   "metadata": {},
   "source": [
    "Test Test ... Notebook"
   ]
  },
  {
   "cell_type": "markdown",
   "id": "b583b418-abff-4695-b3fe-672e59d81832",
   "metadata": {},
   "source": [
    "## Test"
   ]
  },
  {
   "cell_type": "markdown",
   "id": "b6fe81ae-dd29-4a20-acb9-e322f02c0f82",
   "metadata": {},
   "source": [
    "`$ qwerty code`"
   ]
  },
  {
   "cell_type": "markdown",
   "id": "5337f16d-6f08-45ed-b252-262659e42d6e",
   "metadata": {},
   "source": [
    "asldkhasd aklsdjalkd asdlkjgpeio fgafs ad a dafs fap"
   ]
  }
 ],
 "metadata": {
  "kernelspec": {
   "display_name": "Python 3 (ipykernel)",
   "language": "python",
   "name": "python3"
  },
  "language_info": {
   "codemirror_mode": {
    "name": "ipython",
    "version": 3
   },
   "file_extension": ".py",
   "mimetype": "text/x-python",
   "name": "python",
   "nbconvert_exporter": "python",
   "pygments_lexer": "ipython3",
   "version": "3.11.4"
  }
 },
 "nbformat": 4,
 "nbformat_minor": 5
}
